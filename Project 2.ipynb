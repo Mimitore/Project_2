{
 "cells": [
  {
   "cell_type": "code",
   "execution_count": 1,
   "id": "edd9e5c0",
   "metadata": {},
   "outputs": [],
   "source": [
    "import pandas as pd\n",
    "from collections import defaultdict"
   ]
  },
  {
   "cell_type": "code",
   "execution_count": 2,
   "id": "48b1b70d",
   "metadata": {},
   "outputs": [],
   "source": [
    "df1 = pd.read_csv(\"100k.txt\", header=None)"
   ]
  },
  {
   "cell_type": "code",
   "execution_count": 3,
   "id": "7096ea70",
   "metadata": {},
   "outputs": [],
   "source": [
    "df1 = df1[0].str.split('\\t', expand=True).rename(columns = {0:'SUBJECT',1:'ATTRIBUTE',2:'OBJECT'})"
   ]
  },
  {
   "cell_type": "code",
   "execution_count": 4,
   "id": "56bbe742",
   "metadata": {},
   "outputs": [],
   "source": [
    "df1['OBJECT'] = df1['OBJECT'].str[:-2] "
   ]
  },
  {
   "cell_type": "code",
   "execution_count": 5,
   "id": "c152260c",
   "metadata": {},
   "outputs": [],
   "source": [
    "groups = df1.groupby('ATTRIBUTE')[['SUBJECT','OBJECT']]"
   ]
  },
  {
   "cell_type": "code",
   "execution_count": 6,
   "id": "d26ec195",
   "metadata": {},
   "outputs": [],
   "source": [
    "dfs = {}\n",
    "for attribute in ['follows','friendOf', 'likes', 'hasReview']:\n",
    "    dfs[attribute] =  groups.get_group(df1[df1['ATTRIBUTE'].str.contains(attribute)]['ATTRIBUTE'].unique()[0])"
   ]
  },
  {
   "cell_type": "code",
   "execution_count": 42,
   "id": "b6837bb8",
   "metadata": {},
   "outputs": [],
   "source": [
    "def hashJoin(dfs):\n",
    "    keys = list(dfs.keys())\n",
    "    for i in range(len(dfs)-1):\n",
    "        h = defaultdict(list)\n",
    "        # hash phase\n",
    "        if i == 0:            \n",
    "            for ind,row in dfs[keys[i]].iterrows():\n",
    "                h[row['OBJECT']].append(list(row))\n",
    "        else:\n",
    "            for ind,row in res_df.iterrows():\n",
    "                h[row['OBJECT']].append(list(row))\n",
    "        # join phase\n",
    "        res_df = pd.DataFrame((list([*(s[:i+1]),r[1],r[1]]) for ind,r in dfs[keys[i+1]].iterrows() for s in h[r['SUBJECT']])).rename(columns = {i+2:'OBJECT'})\n",
    "    res_df = res_df.drop(len(dfs)-1,axis=1).rename(columns = {'OBJECT':keys[len(dfs)-1]})\n",
    "    for i in range(len(dfs)-1):\n",
    "        res_df.rename(columns={i: keys[i]}, inplace=True)\n",
    "    return res_df"
   ]
  },
  {
   "cell_type": "code",
   "execution_count": 43,
   "id": "b4e04420",
   "metadata": {},
   "outputs": [],
   "source": [
    "x = hashJoin(dfs)"
   ]
  },
  {
   "cell_type": "code",
   "execution_count": 44,
   "id": "9bcdd030",
   "metadata": {},
   "outputs": [
    {
     "data": {
      "text/html": [
       "<div>\n",
       "<style scoped>\n",
       "    .dataframe tbody tr th:only-of-type {\n",
       "        vertical-align: middle;\n",
       "    }\n",
       "\n",
       "    .dataframe tbody tr th {\n",
       "        vertical-align: top;\n",
       "    }\n",
       "\n",
       "    .dataframe thead th {\n",
       "        text-align: right;\n",
       "    }\n",
       "</style>\n",
       "<table border=\"1\" class=\"dataframe\">\n",
       "  <thead>\n",
       "    <tr style=\"text-align: right;\">\n",
       "      <th></th>\n",
       "      <th>follows</th>\n",
       "      <th>friendOf</th>\n",
       "      <th>likes</th>\n",
       "      <th>hasReview</th>\n",
       "    </tr>\n",
       "  </thead>\n",
       "  <tbody>\n",
       "    <tr>\n",
       "      <th>0</th>\n",
       "      <td>wsdbm:User630</td>\n",
       "      <td>wsdbm:User20</td>\n",
       "      <td>wsdbm:Product0</td>\n",
       "      <td>wsdbm:Review24</td>\n",
       "    </tr>\n",
       "    <tr>\n",
       "      <th>1</th>\n",
       "      <td>wsdbm:User26</td>\n",
       "      <td>wsdbm:User20</td>\n",
       "      <td>wsdbm:Product0</td>\n",
       "      <td>wsdbm:Review24</td>\n",
       "    </tr>\n",
       "    <tr>\n",
       "      <th>2</th>\n",
       "      <td>wsdbm:User197</td>\n",
       "      <td>wsdbm:User20</td>\n",
       "      <td>wsdbm:Product0</td>\n",
       "      <td>wsdbm:Review24</td>\n",
       "    </tr>\n",
       "    <tr>\n",
       "      <th>3</th>\n",
       "      <td>wsdbm:User351</td>\n",
       "      <td>wsdbm:User20</td>\n",
       "      <td>wsdbm:Product0</td>\n",
       "      <td>wsdbm:Review24</td>\n",
       "    </tr>\n",
       "    <tr>\n",
       "      <th>4</th>\n",
       "      <td>wsdbm:User396</td>\n",
       "      <td>wsdbm:User20</td>\n",
       "      <td>wsdbm:Product0</td>\n",
       "      <td>wsdbm:Review24</td>\n",
       "    </tr>\n",
       "    <tr>\n",
       "      <th>...</th>\n",
       "      <td>...</td>\n",
       "      <td>...</td>\n",
       "      <td>...</td>\n",
       "      <td>...</td>\n",
       "    </tr>\n",
       "    <tr>\n",
       "      <th>11415456</th>\n",
       "      <td>wsdbm:User186</td>\n",
       "      <td>wsdbm:User238</td>\n",
       "      <td>wsdbm:Product248</td>\n",
       "      <td>wsdbm:Review1248</td>\n",
       "    </tr>\n",
       "    <tr>\n",
       "      <th>11415457</th>\n",
       "      <td>wsdbm:User221</td>\n",
       "      <td>wsdbm:User238</td>\n",
       "      <td>wsdbm:Product248</td>\n",
       "      <td>wsdbm:Review1248</td>\n",
       "    </tr>\n",
       "    <tr>\n",
       "      <th>11415458</th>\n",
       "      <td>wsdbm:User361</td>\n",
       "      <td>wsdbm:User238</td>\n",
       "      <td>wsdbm:Product248</td>\n",
       "      <td>wsdbm:Review1248</td>\n",
       "    </tr>\n",
       "    <tr>\n",
       "      <th>11415459</th>\n",
       "      <td>wsdbm:User762</td>\n",
       "      <td>wsdbm:User238</td>\n",
       "      <td>wsdbm:Product248</td>\n",
       "      <td>wsdbm:Review1248</td>\n",
       "    </tr>\n",
       "    <tr>\n",
       "      <th>11415460</th>\n",
       "      <td>wsdbm:User851</td>\n",
       "      <td>wsdbm:User238</td>\n",
       "      <td>wsdbm:Product248</td>\n",
       "      <td>wsdbm:Review1248</td>\n",
       "    </tr>\n",
       "  </tbody>\n",
       "</table>\n",
       "<p>11415461 rows × 4 columns</p>\n",
       "</div>"
      ],
      "text/plain": [
       "                follows       friendOf             likes         hasReview\n",
       "0         wsdbm:User630   wsdbm:User20    wsdbm:Product0    wsdbm:Review24\n",
       "1          wsdbm:User26   wsdbm:User20    wsdbm:Product0    wsdbm:Review24\n",
       "2         wsdbm:User197   wsdbm:User20    wsdbm:Product0    wsdbm:Review24\n",
       "3         wsdbm:User351   wsdbm:User20    wsdbm:Product0    wsdbm:Review24\n",
       "4         wsdbm:User396   wsdbm:User20    wsdbm:Product0    wsdbm:Review24\n",
       "...                 ...            ...               ...               ...\n",
       "11415456  wsdbm:User186  wsdbm:User238  wsdbm:Product248  wsdbm:Review1248\n",
       "11415457  wsdbm:User221  wsdbm:User238  wsdbm:Product248  wsdbm:Review1248\n",
       "11415458  wsdbm:User361  wsdbm:User238  wsdbm:Product248  wsdbm:Review1248\n",
       "11415459  wsdbm:User762  wsdbm:User238  wsdbm:Product248  wsdbm:Review1248\n",
       "11415460  wsdbm:User851  wsdbm:User238  wsdbm:Product248  wsdbm:Review1248\n",
       "\n",
       "[11415461 rows x 4 columns]"
      ]
     },
     "execution_count": 44,
     "metadata": {},
     "output_type": "execute_result"
    }
   ],
   "source": [
    "x"
   ]
  },
  {
   "cell_type": "code",
   "execution_count": null,
   "id": "5873bcfc",
   "metadata": {},
   "outputs": [],
   "source": []
  }
 ],
 "metadata": {
  "kernelspec": {
   "display_name": "Python 3 (ipykernel)",
   "language": "python",
   "name": "python3"
  },
  "language_info": {
   "codemirror_mode": {
    "name": "ipython",
    "version": 3
   },
   "file_extension": ".py",
   "mimetype": "text/x-python",
   "name": "python",
   "nbconvert_exporter": "python",
   "pygments_lexer": "ipython3",
   "version": "3.9.7"
  }
 },
 "nbformat": 4,
 "nbformat_minor": 5
}
